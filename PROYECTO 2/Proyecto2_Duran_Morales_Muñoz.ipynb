{
  "nbformat": 4,
  "nbformat_minor": 0,
  "metadata": {
    "colab": {
      "name": "Proyecto2_Duran_Morales_Muñoz.ipynb",
      "provenance": [],
      "collapsed_sections": [],
      "machine_shape": "hm"
    },
    "kernelspec": {
      "display_name": "Python 3",
      "language": "python",
      "name": "python3"
    },
    "language_info": {
      "codemirror_mode": {
        "name": "ipython",
        "version": 3
      },
      "file_extension": ".py",
      "mimetype": "text/x-python",
      "name": "python",
      "nbconvert_exporter": "python",
      "pygments_lexer": "ipython3",
      "version": "3.6.7"
    }
  },
  "cells": [
    {
      "cell_type": "markdown",
      "metadata": {
        "colab_type": "text",
        "id": "TtcgJ4iwSVWV"
      },
      "source": [
        "# SIMULACIÓN | PROYECTO UNIDAD 1\n",
        "\n",
        "\n"
      ]
    },
    {
      "cell_type": "markdown",
      "metadata": {
        "colab_type": "text",
        "id": "69--lGL5SVWX"
      },
      "source": [
        "## INSTRUCCIONES\n",
        "\n",
        "- El objetivo del proyecto es poner en práctica los contenidos aprendidos en la segunda unidad de Números aleatorios y MCMC. \n",
        "\n",
        "\n",
        "- Se presentan las actividades a desarrollar, cada una de ella contiene un set de instrucciones, preguntas y su puntaje asociado. **Las preguntas deben ser respondidas en celdas de texto** (no se considera respuesta si está en un comentario entre las líneas de código)\n",
        "\n",
        "\n",
        "- Al finalizar presente las conclusiones de su trabajo. \n",
        "\n",
        "\n",
        "- El título del notebook debe ser: proyecto1_Apellido1_Apellido2_Apellido3\n",
        "\n",
        "\n",
        "- Fecha límite de entrega: 14 de abril 23:59 horas. \n",
        "\n",
        "\n",
        "- Este trabajo pondera un 25% del total del curso "
      ]
    },
    {
      "cell_type": "markdown",
      "metadata": {
        "colab_type": "text",
        "id": "wlpX37QaSVWY"
      },
      "source": [
        "**Integrantes:** "
      ]
    },
    {
      "cell_type": "code",
      "metadata": {
        "colab_type": "code",
        "id": "Wf2o1IZgSVWa",
        "outputId": "9978ab3f-06e4-4c75-f127-0c61418711fd",
        "colab": {
          "base_uri": "https://localhost:8080/",
          "height": 73
        }
      },
      "source": [
        "# Pandas and numpy for data manipulation\n",
        "import pandas as pd\n",
        "import numpy as np\n",
        "\n",
        "# Matplotlib and seaborn for plotting\n",
        "import matplotlib.pyplot as plt\n",
        "import matplotlib\n",
        "%matplotlib inline\n",
        "\n",
        "matplotlib.rcParams['font.size'] = 10\n",
        "matplotlib.rcParams['figure.dpi'] = 100\n",
        "\n",
        "import seaborn as sns\n",
        "\n",
        "from IPython.core.pylabtools import figsize"
      ],
      "execution_count": 0,
      "outputs": [
        {
          "output_type": "stream",
          "text": [
            "/usr/local/lib/python3.6/dist-packages/statsmodels/tools/_testing.py:19: FutureWarning: pandas.util.testing is deprecated. Use the functions in the public API at pandas.testing instead.\n",
            "  import pandas.util.testing as tm\n"
          ],
          "name": "stderr"
        }
      ]
    },
    {
      "cell_type": "code",
      "metadata": {
        "colab_type": "code",
        "id": "dKeiO5GSSVWi",
        "colab": {}
      },
      "source": [
        "import random"
      ],
      "execution_count": 0,
      "outputs": []
    },
    {
      "cell_type": "markdown",
      "metadata": {
        "colab_type": "text",
        "id": "8x125mEKSVWt"
      },
      "source": [
        "## Parte I : Generación de números aleatorios\n",
        "\n"
      ]
    },
    {
      "cell_type": "markdown",
      "metadata": {
        "colab_type": "text",
        "id": "Cy-456CYSVWv"
      },
      "source": [
        "Para el cálculo de áreas con el método de monte carlo es necesario utilizar números aleatorios. Para ello cree los siguientes métodos \n",
        "de generación de números aleatorios: \n",
        "\n",
        "Existen diversas fórmulas para generar números aleatorios, como las siguientes:\n",
        "\n",
        "1. Algoritmo medios cuadrados. \n",
        "\n",
        "  pruebe con: $x_0 = 1009$\n",
        "\n",
        "2. Metodo congruencial lineal con parametros a, b y modulo. \n",
        "\n",
        "  $xi = a_0 + a_1x_{i−1} \\mod M.$\n",
        "  pruebe con: \n",
        "  $x_n = 5x_{n−1} + 1 \\mod 9, x_0 = 1$\n",
        "  $x_n = 5x_{n−1} + 3 \\mod 16, x_0 = 7$\n",
        "\n",
        "3. multiplicative congruential generator : \n",
        "  $x_i = a_1 x_{i−1} \\mod M$\n",
        "\n",
        "4. multiple recursive generator\n",
        "  $x_i=a_1x_{i−1}+a_2x_{i−2}+···+a_kx_{i−k} \\mod M$\n",
        "\n",
        "5. Lagged Fibonacci generators\n",
        "  $x_i = x_{i−r} + x_{i−s} \\mod M$\n",
        "\n",
        "6. inversive congruential generator:\n",
        "\n",
        "  $ x_i=\\left \\{\n",
        "  \\begin{array}{1} \n",
        "      a_0 + a_1x^{-1}_{i-1} \\mod M ,   x_{i-1}\t\\neq 0  \n",
        "  \\\\ {a_0} \\end{array} \\right. $\n",
        "\n",
        "(Ver laboratorio 4) \n",
        "\n",
        "- Escoja tres métodos e impleméntelos, simule conjuntos de 10.000 datos y grafique la posición de los puntos. \n",
        "\n",
        "    R : Multiple recursive generator, inversive congruential generator, multiplicative congruential generator.\n",
        "\n",
        "\n",
        "1. simulando los conjuntos de datos 100 veces ¿cuál es el promedio de las medias para cada método?.\n",
        "\n",
        "    El promedio de  Multiple_recursive_generator es aproximadamente es de:  0.473\n",
        "\n",
        "    El promedio de  multiplicative_congruential_generator es aproximadamente de:  0.448\n",
        "\n",
        "    El promedio de  inversive_congruential_generator es aproximadamente de:  0.4676\n",
        "    \n",
        "\n",
        "2. generando números de [0,1] ¿cuántos datos, en promedio, se requieren para que la suma sea superior a 1?. ¿cuál de los métodos de generación de números aleatorios entrega un valor más cercano al número $e$? [1]\n",
        "\n",
        "    R: Los datos necesarios que se necesitan en promedio para que la suma sea superior a 1, es e (euler), por lo que si se habla de cual es el mejor metodo de numeros aleatorios es de multiple recursive generator, ya que es el más \"uniforme\" de los metodos elejidos.\n",
        "\n",
        "\n",
        "3. ¿Qué tésts se deberían realizar a estos conjuntos de datos para comprobar que son números aleatorios válidos? [2]\n",
        "\n",
        "    R: La tesis que se debería realizar el el test de chi cuadrado, para saber si es realmente uniforme, comparando la dristribución de las partes (en porcentaje), con la distribución ue resulto para cada una de los metodos de realización de metedos de generación de numeros aleatorios.\n",
        "    \n",
        "\n",
        "#### Referencias:\n",
        "[1] Russell, K. G. (1991). Estimating the Value of e by Simulation. The American Statistician, 45(1), 66-68.\n",
        "\n",
        "[2] Capítulo 3.6 Monte Carlo theory, methods and examples. Art B. Owen (2013) - https://statweb.stanford.edu/~owen/mc/Ch-unifrng.pdf"
      ]
    },
    {
      "cell_type": "markdown",
      "metadata": {
        "id": "xjnFw1tFio68",
        "colab_type": "text"
      },
      "source": [
        "**Desarrollo**"
      ]
    },
    {
      "cell_type": "markdown",
      "metadata": {
        "id": "VBTKsL0jiRE3",
        "colab_type": "text"
      },
      "source": [
        "Se definen las funciones a utilizar para el desarrollo.\n"
      ]
    },
    {
      "cell_type": "code",
      "metadata": {
        "id": "WqAan5v_EBfg",
        "colab_type": "code",
        "outputId": "fcc57d6f-25dc-4e64-dc37-16222b8c859e",
        "colab": {
          "base_uri": "https://localhost:8080/",
          "height": 281
        }
      },
      "source": [
        "def Multiple_recursive_generator(x_0,I):\n",
        "    K = 9\n",
        "    x = [x_0]\n",
        "    a = [6,3,2,5,7,5,3,1,4]\n",
        "    M = 4\n",
        "    \n",
        "    for i in range (I):\n",
        "        x_i = 0\n",
        "        if len(x) > K: \n",
        "            lim = K\n",
        "        else :\n",
        "            lim = len(x)\n",
        "        for k in range(lim):\n",
        "            x_i += a[k]*x[i-k]\n",
        "        x_i = x_i/M - int(x_i/M)\n",
        "        x.append(x_i)\n",
        "    return x[1:(len(x)-1)]\n",
        "\n",
        "L = Multiple_recursive_generator(1,10000)        \n",
        "#print(L)\n",
        "\n",
        "figsize(15.5, 4)\n",
        "plt.hist(L, bins=200, color=\"k\", histtype=\"stepfilled\", alpha=0.8)\n",
        "plt.title(\"Histogram of the list with multiple recursive generator\")\n",
        "plt.ylim([0, None]);"
      ],
      "execution_count": 0,
      "outputs": [
        {
          "output_type": "display_data",
          "data": {
            "image/png": "[encoded data removed]",
            "text/plain": [
              "<Figure size 1116x288 with 1 Axes>"
            ]
          },
          "metadata": {
            "tags": [],
            "needs_background": "light"
          }
        }
      ]
    },
    {
      "cell_type": "code",
      "metadata": {
        "id": "KZWR6KniEBgC",
        "colab_type": "code",
        "outputId": "49c9fa1c-aa1b-4320-8f51-e2c5559036e0",
        "colab": {
          "base_uri": "https://localhost:8080/",
          "height": 281
        }
      },
      "source": [
        "def inversive_congruential_generator(x_0,I):\n",
        "    a_0 = 0.4\n",
        "    a_1 = 5\n",
        "    M = 3\n",
        "    \n",
        "    x = [x_0]\n",
        "    \n",
        "    for i in range (I):\n",
        "        x_i = 0\n",
        "        if (x[len(x)-1] != 0) :\n",
        "            x_i = a_0 + (a_1/x[i])\n",
        "            x_i = x_i/M - int(x_i/M)\n",
        "        else:\n",
        "            x_i = a_0\n",
        "        x.append(x_i)\n",
        "    return x[1:(len(x)-1)]\n",
        "\n",
        "L = inversive_congruential_generator(1,10000)        \n",
        "#print(L)\n",
        "\n",
        "figsize(15.5, 4)\n",
        "plt.hist(L, bins=200, color=\"k\", histtype=\"stepfilled\", alpha=0.8)\n",
        "plt.title(\"Histogram of the list with multiple recursive generator\")\n",
        "plt.ylim([0, None]);"
      ],
      "execution_count": 0,
      "outputs": [
        {
          "output_type": "display_data",
          "data": {
            "image/png": "[encoded data removed]",
            "text/plain": [
              "<Figure size 1116x288 with 1 Axes>"
            ]
          },
          "metadata": {
            "tags": [],
            "needs_background": "light"
          }
        }
      ]
    },
    {
      "cell_type": "code",
      "metadata": {
        "id": "vNAgAmFoEBgY",
        "colab_type": "code",
        "outputId": "70d711d9-03f8-4f0c-88e9-3f1d3302a234",
        "colab": {
          "base_uri": "https://localhost:8080/",
          "height": 281
        }
      },
      "source": [
        "def multiplicative_congruential_generator(x_0, I):\n",
        "    a_1 = 4\n",
        "    M = 3\n",
        "    x = []\n",
        "    x_i__1 = x_0\n",
        "    for i in range(I):\n",
        "        x_i = a_1*x_i__1\n",
        "        x_i = x_i/M - int(x_i/M)\n",
        "        x.append(x_i)\n",
        "        x_i__1 = x_i\n",
        "    return x\n",
        "\n",
        "L = multiplicative_congruential_generator(1,10000)        \n",
        "#print(L)\n",
        "\n",
        "figsize(15.5, 4)\n",
        "plt.hist(L, bins=200, color=\"k\", histtype=\"stepfilled\", alpha=0.8)\n",
        "plt.title(\"Histogram of the list with multiple recursive generator\")\n",
        "plt.ylim([0, None]);"
      ],
      "execution_count": 0,
      "outputs": [
        {
          "output_type": "display_data",
          "data": {
            "image/png": "[encoded data removed]",
            "text/plain": [
              "<Figure size 1116x288 with 1 Axes>"
            ]
          },
          "metadata": {
            "tags": [],
            "needs_background": "light"
          }
        }
      ]
    },
    {
      "cell_type": "markdown",
      "metadata": {
        "id": "qByJtnVLEBg3",
        "colab_type": "text"
      },
      "source": [
        "### Pregunta 1."
      ]
    },
    {
      "cell_type": "code",
      "metadata": {
        "id": "O1_Fu6eNEBg9",
        "colab_type": "code",
        "outputId": "a1bd47df-e84d-46f8-f4fe-beded6c667cd",
        "colab": {
          "base_uri": "https://localhost:8080/",
          "height": 71
        }
      },
      "source": [
        "mrc = Multiple_recursive_generator(1,100)\n",
        "mcg = multiplicative_congruential_generator(1,100)\n",
        "icg = inversive_congruential_generator(1,100)\n",
        "\n",
        "L = [mrc,mcg,icg]\n",
        "I = [\"Multiple_recursive_generator\",\"multiplicative_congruential_generator\",\"inversive_congruential_generator\"]\n",
        "\n",
        "for i in range(3):\n",
        "    mean = sum(L[i])/100\n",
        "    print(\"El promedio de \",I[i],\" de: \",mean)"
      ],
      "execution_count": 0,
      "outputs": [
        {
          "output_type": "stream",
          "text": [
            "El promedio de  Multiple_recursive_generator  de:  0.47300027279229634\n",
            "El promedio de  multiplicative_congruential_generator  de:  0.4483096889807875\n",
            "El promedio de  inversive_congruential_generator  de:  0.4676871895860249\n"
          ],
          "name": "stdout"
        }
      ]
    },
    {
      "cell_type": "markdown",
      "metadata": {
        "id": "1sZ4MXNcEBhT",
        "colab_type": "text"
      },
      "source": [
        "### Pregunta 2."
      ]
    },
    {
      "cell_type": "code",
      "metadata": {
        "id": "xywSD8-QEBhX",
        "colab_type": "code",
        "outputId": "7f7a9ed4-393a-4e04-c2fa-263822c2c6a7",
        "colab": {
          "base_uri": "https://localhost:8080/",
          "height": 88
        }
      },
      "source": [
        "import math\n",
        "\n",
        "def Count_numbers(X): \n",
        "    i = 0\n",
        "    suma = 0\n",
        "    #while((suma < 1) and (i < len(X))):\n",
        "     #   suma += X[i]\n",
        "      #  i += 1\n",
        "    I = []\n",
        "    for j in range(len(X)):\n",
        "      suma += X[j]\n",
        "      i += 1\n",
        "      if (suma >=1):\n",
        "        suma = 0\n",
        "        I.append(i)\n",
        "        i = 0\n",
        "\n",
        "\n",
        "    return I\n",
        "\n",
        "\n",
        "MRC = []\n",
        "MCG = []\n",
        "ICG = []\n",
        "\n",
        "\n",
        "mrc = Multiple_recursive_generator(2,1000)\n",
        "mcg = multiplicative_congruential_generator(2,1000)\n",
        "icg = inversive_congruential_generator(3,1000)\n",
        "   \n",
        "MRC = Count_numbers(mrc)\n",
        "MCG = Count_numbers(mcg)\n",
        "ICG = Count_numbers(icg)\n",
        "\n",
        "sum_mrc = sum(MRC)/len(MRC)\n",
        "sum_mcg = sum(MCG)/len(MCG)\n",
        "sum_icg = sum(ICG)/len(ICG)\n",
        "    \n",
        "print(\"promedio de Multiple_recursive_generator es de \",sum_mrc)\n",
        "print(\"promedio de multiplicative_congruential_generator es de \",sum_mcg)\n",
        "print(\"promedio de inversive_congruential_generator es de \",sum_icg)\n",
        "print(\"euler :\" , math.e)\n"
      ],
      "execution_count": 0,
      "outputs": [
        {
          "output_type": "stream",
          "text": [
            "promedio de Multiple_recursive_generator es de  2.7645429362880884\n",
            "promedio de multiplicative_congruential_generator es de  3.5551601423487544\n",
            "promedio de inversive_congruential_generator es de  2.8220338983050848\n",
            "euler : 2.718281828459045\n"
          ],
          "name": "stdout"
        }
      ]
    },
    {
      "cell_type": "markdown",
      "metadata": {
        "colab_type": "text",
        "id": "sYbkKAuk3NTA"
      },
      "source": [
        "## Parte II: Simulación de MonteCarlo \n",
        "\n",
        "1. Utilice las tres técnicas de números aleatorios desarrollados en la parte I para calcular el valor de $\\pi$ (ver laboratorio 5)\n",
        "\n",
        "  a. Grafique sus resultados. ¿qué método se desempeña mejor? \n",
        "  \n",
        "  R:De por lejos el metodo más cercano es de multiple recursive generador, por si similitud a una distribución uniforme, que es la forma a la que se quiere llegar.\n",
        "\n",
        "\n",
        "2. Investigue respecto de Importance Sampling en los métodos de monte carlo.\n",
        "\n",
        "  a. Defina el concepto y su relación con la covarianza de los datos. \n",
        "\n",
        "  La importance Sampling es un estimador de la proporcióón entre distribucióónes, a partir de muestra generales de la distribución.\n",
        "\n",
        "$\n",
        "E[f(x)] \\approx \\frac{1}{n} \\sum_{i} f(x_{i})*\\frac {p( x_{i} )}{q(x_{i})}\n",
        "$\n",
        "con $i$ desde $1$ hasta $n$\n",
        "\n",
        "\n",
        "Donde el resultado sera una representacion de que tan proporcionales son la distribución $p( x_{i} )$ con la distribución esperada de $q(x_{i})$, de una función de probabilidad.  \n",
        "\n",
        "\n",
        "  Y la relacióón con la covarianza de los datos es que puede describir que tan ajustada estan los datos con respecto a la distribucióón que se espera.\n",
        "\n",
        "  b. Muestre con ejemplo práctico la mejora de la simulación. \n",
        "\n",
        "\n",
        "Puede revisar los siguientes ejemplos:\n",
        "\n",
        "- https://towardsdatascience.com/importance-sampling-introduction-e76b2c32e744\n",
        "\n",
        "- https://www.scratchapixel.com/lessons/mathematics-physics-for-computer-graphics/monte-carlo-methods-in-practice/variance-reduction-methods\n",
        "\n",
        "- https://github.com/kevinzakka/learn-monte-carlo/blob/master/Monte%20Carlo%20and%20Importance%20Sampling.ipynb\n",
        "\n",
        "- http://iacs-courses.seas.harvard.edu/courses/am207/blog/lecture-4.html"
      ]
    },
    {
      "cell_type": "markdown",
      "metadata": {
        "id": "wJp5QeY-EBhu",
        "colab_type": "text"
      },
      "source": [
        "### Pregunta 1\n",
        "##### a-\n"
      ]
    },
    {
      "cell_type": "code",
      "metadata": {
        "scrolled": false,
        "id": "L5_rn2PTEBhy",
        "colab_type": "code",
        "outputId": "fc68d639-1d14-4392-b09d-8674c2faf91c",
        "colab": {
          "base_uri": "https://localhost:8080/",
          "height": 317
        }
      },
      "source": [
        "## Calculo de pi\n",
        "X = Multiple_recursive_generator(2,10001)    \n",
        "Y = Multiple_recursive_generator(3,10001)    \n",
        "\n",
        "adentroCirculoX = []\n",
        "adentroCirculoY = []\n",
        "\n",
        "adentroCuadradoX =[]\n",
        "adentroCuadradoY =[]\n",
        "\n",
        "ptos_circulo = 0\n",
        "ptos_cuadrado = 0\n",
        "for i in range (10000):\n",
        "    x = X[i] \n",
        "    y = Y[i]\n",
        "    if(x*x + y*y <= 1):\n",
        "        ptos_circulo += 1\n",
        "        adentroCirculoX.append(x)\n",
        "        adentroCirculoY.append(y)\n",
        "    ptos_cuadrado += 1\n",
        "    adentroCuadradoX.append(x)\n",
        "    adentroCuadradoY.append(y)\n",
        "    \n",
        "    \n",
        "print(\"pi es aproximadamente \", (ptos_circulo*4/ptos_cuadrado))    \n",
        "    \n",
        "figsize(15.5, 4)\n",
        "plt.hist(adentroCuadradoX, bins=200, color=\"k\",label=\"cuadrado\", histtype=\"stepfilled\", alpha=0.8)\n",
        "plt.hist(adentroCirculoX, bins=200, color=\"c\", label=\"circulo\", histtype=\"stepfilled\", alpha=0.8)\n",
        "plt.title(\"puntos que estan dentro del circulo vs los que estan en el cuadrado en x\")\n",
        "plt.ylim([0, None]);\n",
        "plt.legend()"
      ],
      "execution_count": 0,
      "outputs": [
        {
          "output_type": "stream",
          "text": [
            "pi es aproximadamente  3.162\n"
          ],
          "name": "stdout"
        },
        {
          "output_type": "execute_result",
          "data": {
            "text/plain": [
              "<matplotlib.legend.Legend at 0x7f6e3e8b3550>"
            ]
          },
          "metadata": {
            "tags": []
          },
          "execution_count": 8
        },
        {
          "output_type": "display_data",
          "data": {
            "image/png": "[encoded data removed]",
            "text/plain": [
              "<Figure size 1116x288 with 1 Axes>"
            ]
          },
          "metadata": {
            "tags": [],
            "needs_background": "light"
          }
        }
      ]
    },
    {
      "cell_type": "code",
      "metadata": {
        "scrolled": false,
        "id": "srZ-nfSCEBiJ",
        "colab_type": "code",
        "outputId": "70668c75-ae51-4b55-8e71-3fc2d282107c",
        "colab": {
          "base_uri": "https://localhost:8080/",
          "height": 299
        }
      },
      "source": [
        "figsize(15.5, 4)\n",
        "plt.hist(adentroCuadradoY, bins=200, color=\"b\",label=\"cuadrado\", histtype=\"stepfilled\", alpha=0.8)\n",
        "plt.hist(adentroCirculoY, bins=200, color=\"r\", label=\"circulo\", histtype=\"stepfilled\", alpha=0.8)\n",
        "plt.title(\"puntos que estan dentro del circulo vs los que estan en el cuadrado en y\")\n",
        "plt.ylim([0, None]);\n",
        "plt.legend()"
      ],
      "execution_count": 0,
      "outputs": [
        {
          "output_type": "execute_result",
          "data": {
            "text/plain": [
              "<matplotlib.legend.Legend at 0x7f6e3e887b70>"
            ]
          },
          "metadata": {
            "tags": []
          },
          "execution_count": 9
        },
        {
          "output_type": "display_data",
          "data": {
            "image/png": "[encoded data removed]",
            "text/plain": [
              "<Figure size 1116x288 with 1 Axes>"
            ]
          },
          "metadata": {
            "tags": [],
            "needs_background": "light"
          }
        }
      ]
    },
    {
      "cell_type": "code",
      "metadata": {
        "id": "zUt5kj_dEBiZ",
        "colab_type": "code",
        "outputId": "652cda41-100c-44c3-f93c-9fcec78384a5",
        "colab": {
          "base_uri": "https://localhost:8080/",
          "height": 317
        }
      },
      "source": [
        "## Calculo de pi\n",
        "X = inversive_congruential_generator(2,10001)    \n",
        "Y = inversive_congruential_generator(3,10001)    \n",
        "\n",
        "adentroCirculoX = []\n",
        "adentroCirculoY = []\n",
        "\n",
        "adentroCuadradoX =[]\n",
        "adentroCuadradoY =[]\n",
        "\n",
        "ptos_circulo = 0\n",
        "ptos_cuadrado = 0\n",
        "for i in range (10000):\n",
        "    x = X[i] \n",
        "    y = Y[i]\n",
        "    if(x*x + y*y <= 1):\n",
        "        ptos_circulo += 1\n",
        "        adentroCirculoX.append(x)\n",
        "        adentroCirculoY.append(y)\n",
        "    ptos_cuadrado += 1\n",
        "    adentroCuadradoX.append(x)\n",
        "    adentroCuadradoY.append(y)\n",
        "    \n",
        "    \n",
        "print(\"pi es aproximadamente \", (ptos_circulo*4/ptos_cuadrado))    \n",
        "    \n",
        "figsize(15.5, 4)\n",
        "plt.hist(adentroCuadradoX, bins=200, color=\"k\",label=\"cuadrado\", histtype=\"stepfilled\", alpha=0.8)\n",
        "plt.hist(adentroCirculoX, bins=200, color=\"c\", label=\"circulo\", histtype=\"stepfilled\", alpha=0.8)\n",
        "plt.title(\"puntos que estan dentro del circulo vs los que estan en el cuadrado en x\")\n",
        "plt.ylim([0, None]);\n",
        "plt.legend()"
      ],
      "execution_count": 0,
      "outputs": [
        {
          "output_type": "stream",
          "text": [
            "pi es aproximadamente  2.9796\n"
          ],
          "name": "stdout"
        },
        {
          "output_type": "execute_result",
          "data": {
            "text/plain": [
              "<matplotlib.legend.Legend at 0x7f6e3e933208>"
            ]
          },
          "metadata": {
            "tags": []
          },
          "execution_count": 10
        },
        {
          "output_type": "display_data",
          "data": {
            "image/png": "[encoded data removed]",
            "text/plain": [
              "<Figure size 1116x288 with 1 Axes>"
            ]
          },
          "metadata": {
            "tags": [],
            "needs_background": "light"
          }
        }
      ]
    },
    {
      "cell_type": "code",
      "metadata": {
        "scrolled": true,
        "id": "yQ0OhgE_EBil",
        "colab_type": "code",
        "outputId": "bbd32c79-00c8-44c5-af0c-334d2a0b7a56",
        "colab": {
          "base_uri": "https://localhost:8080/",
          "height": 299
        }
      },
      "source": [
        "figsize(15.5, 4)\n",
        "plt.hist(adentroCuadradoY, bins=200, color=\"b\",label=\"cuadrado\", histtype=\"stepfilled\", alpha=0.8)\n",
        "plt.hist(adentroCirculoY, bins=200, color=\"r\", label=\"circulo\", histtype=\"stepfilled\", alpha=0.8)\n",
        "plt.title(\"puntos que estan dentro del circulo vs los que estan en el cuadrado en y\")\n",
        "plt.ylim([0, None]);\n",
        "plt.legend()"
      ],
      "execution_count": 0,
      "outputs": [
        {
          "output_type": "execute_result",
          "data": {
            "text/plain": [
              "<matplotlib.legend.Legend at 0x7f6e3e9012b0>"
            ]
          },
          "metadata": {
            "tags": []
          },
          "execution_count": 11
        },
        {
          "output_type": "display_data",
          "data": {
            "image/png": "[encoded data removed]",
            "text/plain": [
              "<Figure size 1116x288 with 1 Axes>"
            ]
          },
          "metadata": {
            "tags": [],
            "needs_background": "light"
          }
        }
      ]
    },
    {
      "cell_type": "code",
      "metadata": {
        "id": "pipOKJYFEBi7",
        "colab_type": "code",
        "outputId": "9a7b18ae-6eb2-4618-8a2d-3a344cb93288",
        "colab": {
          "base_uri": "https://localhost:8080/",
          "height": 317
        }
      },
      "source": [
        "## Calculo de pi\n",
        "X = multiplicative_congruential_generator(2,10001)    \n",
        "Y = multiplicative_congruential_generator(1,10001)    \n",
        "\n",
        "adentroCirculoX = []\n",
        "adentroCirculoY = []\n",
        "\n",
        "adentroCuadradoX =[]\n",
        "adentroCuadradoY =[]\n",
        "\n",
        "ptos_circulo = 0\n",
        "ptos_cuadrado = 0\n",
        "for i in range (10000):\n",
        "    x = X[i] \n",
        "    y = Y[i]\n",
        "    if(x*x + y*y <= 1):\n",
        "        ptos_circulo += 1\n",
        "        adentroCirculoX.append(x)\n",
        "        adentroCirculoY.append(y)\n",
        "    ptos_cuadrado += 1\n",
        "    adentroCuadradoX.append(x)\n",
        "    adentroCuadradoY.append(y)\n",
        "    \n",
        "    \n",
        "print(\"pi es aproximadamente \", (ptos_circulo*4/ptos_cuadrado))    \n",
        "    \n",
        "figsize(15.5, 4)\n",
        "plt.hist(adentroCuadradoX, bins=200, color=\"k\",label=\"cuadrado\", histtype=\"stepfilled\", alpha=0.8)\n",
        "plt.hist(adentroCirculoX, bins=200, color=\"c\", label=\"circulo\", histtype=\"stepfilled\", alpha=0.8)\n",
        "plt.title(\"puntos que estan dentro del circulo vs los que estan en el cuadrado en x\")\n",
        "plt.ylim([0, None]);\n",
        "plt.legend()"
      ],
      "execution_count": 0,
      "outputs": [
        {
          "output_type": "stream",
          "text": [
            "pi es aproximadamente  3.7164\n"
          ],
          "name": "stdout"
        },
        {
          "output_type": "execute_result",
          "data": {
            "text/plain": [
              "<matplotlib.legend.Legend at 0x7f6e3e818898>"
            ]
          },
          "metadata": {
            "tags": []
          },
          "execution_count": 12
        },
        {
          "output_type": "display_data",
          "data": {
            "image/png": "[encoded data removed]",
            "text/plain": [
              "<Figure size 1116x288 with 1 Axes>"
            ]
          },
          "metadata": {
            "tags": [],
            "needs_background": "light"
          }
        }
      ]
    },
    {
      "cell_type": "code",
      "metadata": {
        "id": "BCbqHNe_EBjH",
        "colab_type": "code",
        "outputId": "5c7092be-c091-4253-981f-d83e903d5451",
        "colab": {
          "base_uri": "https://localhost:8080/",
          "height": 299
        }
      },
      "source": [
        "figsize(15.5, 4)\n",
        "plt.hist(adentroCuadradoY, bins=200, color=\"b\",label=\"cuadrado\", histtype=\"stepfilled\", alpha=0.8)\n",
        "plt.hist(adentroCirculoY, bins=200, color=\"r\", label=\"circulo\", histtype=\"stepfilled\", alpha=0.8)\n",
        "plt.title(\"puntos que estan dentro del circulo vs los que estan en el cuadrado en y\")\n",
        "plt.ylim([0, None]);\n",
        "plt.legend()"
      ],
      "execution_count": 0,
      "outputs": [
        {
          "output_type": "execute_result",
          "data": {
            "text/plain": [
              "<matplotlib.legend.Legend at 0x7f6e3e7c40f0>"
            ]
          },
          "metadata": {
            "tags": []
          },
          "execution_count": 13
        },
        {
          "output_type": "display_data",
          "data": {
            "image/png": "[encoded data removed]",
            "text/plain": [
              "<Figure size 1116x288 with 1 Axes>"
            ]
          },
          "metadata": {
            "tags": [],
            "needs_background": "light"
          }
        }
      ]
    },
    {
      "cell_type": "markdown",
      "metadata": {
        "id": "-ZGlf7QRKsmL",
        "colab_type": "text"
      },
      "source": [
        "### Pregunta 2 b."
      ]
    },
    {
      "cell_type": "code",
      "metadata": {
        "id": "ALnMNqm3Knbk",
        "colab_type": "code",
        "outputId": "5ee44aba-f1ae-4d18-f791-cfec32dc024b",
        "colab": {
          "base_uri": "https://localhost:8080/",
          "height": 317
        }
      },
      "source": [
        "###  Importance Sampling \n",
        "\n",
        "### la distribución obtenida p(x)\n",
        "### la distribucion deseada q(x) y como q(X) es uniforme\n",
        "## r: numero de la dicritación\n",
        "## el calculo segun \n",
        "## https://relopezbriega.github.io/blog/2016/06/29/distribuciones-de-probabilidad-con-python/\n",
        "\n",
        "\n",
        "def P(X,x_i,r):\n",
        "  \n",
        "  j = 0\n",
        "  y = 0\n",
        "  while(y<x_i):\n",
        "    y +=1/r\n",
        "\n",
        "  total = 0\n",
        "  for i in X:\n",
        "    if ((i >= y) and (i<(y+(1/r)))):\n",
        "      total += 1\n",
        "  return total/r\n",
        "\n",
        "\n",
        "\n",
        "r = 300\n",
        "Q = r/10000\n",
        "\n",
        "## Calculo de pi\n",
        "X = Multiple_recursive_generator(2,10001)    \n",
        "Y = Multiple_recursive_generator(3,10001)    \n",
        "\n",
        "\n",
        "adentroCirculoX = []\n",
        "adentroCirculoY = []\n",
        "\n",
        "adentroCuadradoX =[]\n",
        "adentroCuadradoY =[]\n",
        "\n",
        "ptos_circulo = 0\n",
        "ptos_cuadrado = 0\n",
        "\n",
        "\n",
        "\n",
        "z = 0\n",
        "for j in range(100000):\n",
        "  c = np.random.uniform()\n",
        "  z += P(X,c,r)/Q\n",
        "z = z/100000\n",
        "\n",
        "for i in range (10000):\n",
        "    x = X[i] *P(X,X[i],r)/(Q*z)\n",
        "    y = Y[i] *P(Y,Y[i],r)/(Q*z)\n",
        "    if(x*x + y*y <= 1):\n",
        "        ptos_circulo += 1\n",
        "        adentroCirculoX.append(x)\n",
        "        adentroCirculoY.append(y)\n",
        "    ptos_cuadrado += 1\n",
        "    adentroCuadradoX.append(x)\n",
        "    adentroCuadradoY.append(y)\n",
        "    \n",
        "    \n",
        "print(\"pi es aproximadamente \", (ptos_circulo*4/ptos_cuadrado))    \n",
        "    \n",
        "figsize(15.5, 4)\n",
        "plt.hist(adentroCuadradoX, bins=200, color=\"k\",label=\"cuadrado\", histtype=\"stepfilled\", alpha=0.8)\n",
        "#plt.hist(X, bins=200, color=\"c\", label=\"circulo\", histtype=\"stepfilled\", alpha=0.8)\n",
        "\n",
        "plt.hist(X, bins=200, color=\"b\",label=\"cuadrado\", histtype=\"stepfilled\", alpha=0.8)\n",
        "#plt.hist(adentroCirculoX, bins=200, color=\"c\", label=\"circulo\", histtype=\"stepfilled\", alpha=0.8)\n",
        "plt.title(\"puntos que estan dentro del circulo vs los que estan en el cuadrado en x\")\n",
        "plt.ylim([0, None]);\n",
        "plt.legend()"
      ],
      "execution_count": 0,
      "outputs": [
        {
          "output_type": "stream",
          "text": [
            "pi es aproximadamente  3.0992\n"
          ],
          "name": "stdout"
        },
        {
          "output_type": "execute_result",
          "data": {
            "text/plain": [
              "<matplotlib.legend.Legend at 0x7f6e3de38cc0>"
            ]
          },
          "metadata": {
            "tags": []
          },
          "execution_count": 84
        },
        {
          "output_type": "display_data",
          "data": {
            "image/png": "[encoded data removed]",
            "text/plain": [
              "<Figure size 1116x288 with 1 Axes>"
            ]
          },
          "metadata": {
            "tags": [],
            "needs_background": "light"
          }
        }
      ]
    },
    {
      "cell_type": "code",
      "metadata": {
        "id": "21mY31AL5622",
        "colab_type": "code",
        "outputId": "ae0d3678-1a9d-4d04-faa1-e944da85ec9c",
        "colab": {
          "base_uri": "https://localhost:8080/",
          "height": 53
        }
      },
      "source": [
        "print(adentroCuadradoX[34])\n",
        "print(X[34])"
      ],
      "execution_count": 0,
      "outputs": [
        {
          "output_type": "stream",
          "text": [
            "0.3693909565078145\n",
            "0.2852625956875272\n"
          ],
          "name": "stdout"
        }
      ]
    },
    {
      "cell_type": "markdown",
      "metadata": {
        "colab_type": "text",
        "id": "iweVC63xUZKg"
      },
      "source": [
        "## Parte III: MCMC\n",
        "\n",
        "Dados los datos del archivo avg_speed siga la metodología del laboratorio 6 para descubrir los clusters en los datos.\n",
        "\n",
        "1. ¿Cuántos cluster a definido?\n",
        " > Hemos definido dos cluster por las dos montañas que se apresia en el histograma.\n",
        "    \n",
        "\n",
        "2. ¿Cuál es la probabilidad de cada cluster?\n",
        "\n",
        "  > La probabilidad que estimamos es que para el mayor sea de un 80% y el menor del 20%\n",
        "\n",
        "3. ¿Cuál es la distribución hipotética de cada cluster? ¿que supuestos ha hecho sobre los parámetros de cada distribución? \n",
        "\n",
        " > El supuesto es que siguen una distribución normal, los supuestos que he hecho en cada distribucion es que tienen media 2.8  y una desviación estandar de  2.1 para el cluster mayor y para el menor media 5.6 con desviación estandar de 1.2 .\n",
        "    \n",
        "\n",
        "4. Grafique las iteraciones de la cadena de markov. \n",
        "5. Grafique los resultados obtenidos versus los supuestos realizados en los puntos anteriores. ¿En qué puntos los supuestos podrían cambiar para mejorar los resultados? \n",
        "\n",
        "6. Investigue respecto a la convergencia de la cadena con el método de autocorrelación y explique su funcionamiento. \n",
        "\n",
        "7. grafique la autocorrelación de sus resultados e indique si hay convergencia. \n"
      ]
    },
    {
      "cell_type": "code",
      "metadata": {
        "colab_type": "code",
        "id": "_QMonmeZbKNY",
        "outputId": "103643e7-1d61-43d0-861b-81ed002caa5b",
        "scrolled": true,
        "colab": {
          "base_uri": "https://localhost:8080/",
          "height": 317
        }
      },
      "source": [
        "figsize(15.5, 4)\n",
        "#data = np.loadtxt(\"avg_speed.csv\", delimiter=\",\")\n",
        "url = 'https://raw.githubusercontent.com/SebastianDuranV/proyecto_2_simulacion/master/PROYECTO%202/avg_speed.csv'\n",
        "data = np.loadtxt(url,delimiter=\",\")\n",
        "\n",
        "plt.hist(data, bins=200, color=\"b\", histtype=\"stepfilled\", alpha=0.8)\n",
        "plt.hist(data[:6000], bins=200, color=\"k\", histtype=\"stepfilled\", alpha=0.8)\n",
        "\n",
        "plt.title(\"Histogram of the dataset\")\n",
        "plt.ylim([0, None]);\n",
        "print(data[:10], \"...\")\n",
        "len(data)"
      ],
      "execution_count": 0,
      "outputs": [
        {
          "output_type": "stream",
          "text": [
            "[3.076 2.928 3.831 2.791 2.96  2.922 3.148 2.915 2.832 2.843] ...\n"
          ],
          "name": "stdout"
        },
        {
          "output_type": "execute_result",
          "data": {
            "text/plain": [
              "11654"
            ]
          },
          "metadata": {
            "tags": []
          },
          "execution_count": 16
        },
        {
          "output_type": "display_data",
          "data": {
            "image/png": "[encoded data removed]",
            "text/plain": [
              "<Figure size 1116x288 with 1 Axes>"
            ]
          },
          "metadata": {
            "tags": [],
            "needs_background": "light"
          }
        }
      ]
    },
    {
      "cell_type": "code",
      "metadata": {
        "id": "5SGXgBQwEBjq",
        "colab_type": "code",
        "colab": {}
      },
      "source": [
        "import pymc3 as pm\n",
        "import theano.tensor as T\n",
        "import scipy\n",
        "from scipy import optimize\n",
        "from mpl_toolkits.mplot3d import Axes3D"
      ],
      "execution_count": 0,
      "outputs": []
    },
    {
      "cell_type": "code",
      "metadata": {
        "id": "8RDcOfD6EBj0",
        "colab_type": "code",
        "outputId": "9d70691e-c16b-49ec-ca2a-cd4746bbf08a",
        "colab": {
          "base_uri": "https://localhost:8080/",
          "height": 239
        }
      },
      "source": [
        "with pm.Model() as model:\n",
        "    #Probabilidad de pertenecer al primer cluster Prior uniforme sobre (0,1).\n",
        "    p1 = pm.Uniform('p', 0, 1)\n",
        "\n",
        "    #Probabilidad de pertenecer al segundo cluster. \n",
        "    p2 = 1 - p1\n",
        "    p = T.stack([p1, p2])\n",
        "    #assignment = pm.Categorical(\"assignment\", p, \n",
        "                          #      shape=data.shape[0],\n",
        "                         #       testval=np.random.randint(0, 2, data.shape[0]))\n",
        "    \n",
        "    assignment = pm.Categorical(\"assignment\", p, \n",
        "                                shape=6000,\n",
        "                                testval=np.random.randint(0, 2, 6000))\n",
        "    \n",
        "    \n",
        "print(\"prior assignment, with p = %.2f:\" % p1.tag.test_value)\n",
        "print(assignment.tag.test_value[:10])\n",
        "print(len(assignment.tag.test_value))\n",
        "\n"
      ],
      "execution_count": 0,
      "outputs": [
        {
          "output_type": "error",
          "ename": "NameError",
          "evalue": "ignored",
          "traceback": [
            "\u001b[0;31m---------------------------------------------------------------------------\u001b[0m",
            "\u001b[0;31mNameError\u001b[0m                                 Traceback (most recent call last)",
            "\u001b[0;32m<ipython-input-2-0f1937b5080d>\u001b[0m in \u001b[0;36m<module>\u001b[0;34m()\u001b[0m\n\u001b[1;32m     12\u001b[0m     assignment = pm.Categorical(\"assignment\", p, \n\u001b[1;32m     13\u001b[0m                                 \u001b[0mshape\u001b[0m\u001b[0;34m=\u001b[0m\u001b[0;36m6000\u001b[0m\u001b[0;34m,\u001b[0m\u001b[0;34m\u001b[0m\u001b[0;34m\u001b[0m\u001b[0m\n\u001b[0;32m---> 14\u001b[0;31m                                 testval=np.random.randint(0, 2, 6000))\n\u001b[0m\u001b[1;32m     15\u001b[0m \u001b[0;34m\u001b[0m\u001b[0m\n\u001b[1;32m     16\u001b[0m \u001b[0;34m\u001b[0m\u001b[0m\n",
            "\u001b[0;31mNameError\u001b[0m: name 'np' is not defined"
          ]
        }
      ]
    },
    {
      "cell_type": "code",
      "metadata": {
        "id": "_SD0l1RUEBkA",
        "colab_type": "code",
        "colab": {}
      },
      "source": [
        "with model:\n",
        "    #Distribución de desviación estandar y media. \n",
        "    sds = pm.Uniform(\"sds\", 0,3.4, shape=2)\n",
        "    centers = pm.Normal(\"centers\", \n",
        "                        mu=np.array([2.8, 5.6]), \n",
        "                        sd=np.array([2.1, 1.2]), \n",
        "                        shape=2)\n",
        "    \n",
        "    center_i = pm.Deterministic('center_i', centers[assignment])\n",
        "    sd_i = pm.Deterministic('sd_i', sds[assignment])\n",
        "    \n",
        "    # Likelihood\n",
        "    observations = pm.Normal(\"obs\", mu=center_i, sd=sd_i, observed=data[:6000])\n",
        "    \n",
        "print(\"Random assignments: \", assignment.tag.test_value[:4], \"...\")\n",
        "##print(len(assignment.tag.test_value))\n",
        "print(\"Assigned center: \", center_i.tag.test_value[:4], \"...\")\n",
        "#print(len(center_i.tag.test_value))\n",
        "print(\"Assigned standard deviation: \", sd_i.tag.test_value[:4])\n",
        "#print(len(sd_i.tag.test_value))"
      ],
      "execution_count": 0,
      "outputs": []
    },
    {
      "cell_type": "code",
      "metadata": {
        "id": "YTbLEz-HEBkO",
        "colab_type": "code",
        "colab": {}
      },
      "source": [
        "with model:\n",
        "    step1 = pm.Metropolis(vars=[p, sds, centers])\n",
        "    step2 = pm.ElemwiseCategorical(vars=[assignment])\n",
        "    trace = pm.sample(2500, step=[step1, step2])"
      ],
      "execution_count": 0,
      "outputs": []
    },
    {
      "cell_type": "code",
      "metadata": {
        "id": "13oUGjDrEBkX",
        "colab_type": "code",
        "colab": {}
      },
      "source": [
        "figsize(12.5, 9)\n",
        "plt.subplot(311)\n",
        "lw = 1\n",
        "center_trace = trace[\"centers\"]\n",
        "\n",
        "# for pretty colors later in the book.\n",
        "colors = [\"#348ABD\", \"#A60628\"] if center_trace[-1, 0] > center_trace[-1, 1] \\\n",
        "    else [\"#A60628\", \"#348ABD\"]\n",
        "\n",
        "plt.plot(center_trace[:, 0], label=\"trace of center 0\", c=colors[0], lw=lw)\n",
        "plt.plot(center_trace[:, 1], label=\"trace of center 1\", c=colors[1], lw=lw)\n",
        "plt.title(\"Traces of unknown parameters\")\n",
        "leg = plt.legend(loc=\"upper right\")\n",
        "leg.get_frame().set_alpha(0.7)\n",
        "\n",
        "plt.subplot(312)\n",
        "std_trace = trace[\"sds\"]\n",
        "plt.plot(std_trace[:, 0], label=\"trace of standard deviation of cluster 0\",\n",
        "     c=colors[0], lw=lw)\n",
        "plt.plot(std_trace[:, 1], label=\"trace of standard deviation of cluster 1\",\n",
        "     c=colors[1], lw=lw)\n",
        "plt.legend(loc=\"upper left\")\n",
        "\n",
        "plt.subplot(313)\n",
        "p_trace = trace[\"p\"]\n",
        "plt.plot(p_trace, label=\"$p$: frequency of assignment to cluster 0\",\n",
        "     color=colors[0], lw=lw)\n",
        "plt.xlabel(\"Steps\")\n",
        "plt.ylim(0, 1)\n",
        "plt.legend();"
      ],
      "execution_count": 0,
      "outputs": []
    },
    {
      "cell_type": "code",
      "metadata": {
        "id": "jNzwpoR1EBkk",
        "colab_type": "code",
        "colab": {}
      },
      "source": [
        "with model:\n",
        "    trace = pm.sample(5000, step=[step1], trace=trace)"
      ],
      "execution_count": 0,
      "outputs": []
    },
    {
      "cell_type": "code",
      "metadata": {
        "id": "KlAhQbuMEBkw",
        "colab_type": "code",
        "colab": {}
      },
      "source": [
        "figsize(12.5, 9)\n",
        "plt.subplot(311)\n",
        "lw = 1\n",
        "center_trace = trace[\"centers\"]\n",
        "\n",
        "# for pretty colors later in the book.\n",
        "colors = [\"#348ABD\", \"#A60628\"] if center_trace[-1, 0] > center_trace[-1, 1] \\\n",
        "    else [\"#A60628\", \"#348ABD\"]\n",
        "\n",
        "plt.plot(center_trace[:, 0], label=\"trace of center 0\", c=colors[0], lw=lw)\n",
        "plt.plot(center_trace[:, 1], label=\"trace of center 1\", c=colors[1], lw=lw)\n",
        "plt.title(\"Traces of unknown parameters\")\n",
        "leg = plt.legend(loc=\"upper right\")\n",
        "leg.get_frame().set_alpha(0.7)\n",
        "\n",
        "plt.subplot(312)\n",
        "std_trace = trace[\"sds\"]\n",
        "plt.plot(std_trace[:, 0], label=\"trace of standard deviation of cluster 0\",\n",
        "     c=colors[0], lw=lw)\n",
        "plt.plot(std_trace[:, 1], label=\"trace of standard deviation of cluster 1\",\n",
        "     c=colors[1], lw=lw)\n",
        "plt.legend(loc=\"upper left\")\n",
        "\n",
        "plt.subplot(313)\n",
        "p_trace = trace[\"p\"]\n",
        "plt.plot(p_trace, label=\"$p$: frequency of assignment to cluster 0\",\n",
        "     color=colors[0], lw=lw)\n",
        "plt.xlabel(\"Steps\")\n",
        "plt.ylim(0, 1)\n",
        "plt.legend();"
      ],
      "execution_count": 0,
      "outputs": []
    },
    {
      "cell_type": "code",
      "metadata": {
        "id": "EzrmopdOEBk-",
        "colab_type": "code",
        "colab": {}
      },
      "source": [
        "figsize(11.0, 4)\n",
        "std_trace = trace[\"sds\"][2500:]\n",
        "prev_std_trace = trace[\"sds\"][:2000]\n",
        "\n",
        "_i = [1, 2, 3, 4]\n",
        "for i in range(2):\n",
        "    plt.subplot(2, 2, _i[2 * i])\n",
        "    plt.title(\"Posterior of center of cluster %d\" % i)\n",
        "    plt.hist(center_trace[:, i], color=colors[i], bins=30,\n",
        "             histtype=\"stepfilled\")\n",
        "\n",
        "    plt.subplot(2, 2, _i[2 * i + 1])\n",
        "    plt.title(\"Posterior of standard deviation of cluster %d\" % i)\n",
        "    plt.hist(std_trace[:, i], color=colors[i], bins=30,\n",
        "             histtype=\"stepfilled\")\n",
        "    # plt.autoscale(tight=True)\n",
        "\n",
        "plt.tight_layout()"
      ],
      "execution_count": 0,
      "outputs": []
    },
    {
      "cell_type": "code",
      "metadata": {
        "id": "MLpBifsrEBlK",
        "colab_type": "code",
        "colab": {}
      },
      "source": [
        "%matplotlib inline\n",
        "import scipy.stats as stats\n",
        "from IPython.core.pylabtools import figsize\n",
        "import numpy as np\n",
        "figsize(12.5, 4)\n",
        "\n",
        "norm = stats.norm\n",
        "x = np.linspace(0, 13, 500)\n",
        "posterior_center_means = center_trace.mean(axis=0)\n",
        "posterior_std_means = std_trace.mean(axis=0)\n",
        "posterior_p_mean = trace[\"p\"].mean()\n",
        "\n",
        "plt.hist(data, bins=500, histtype=\"step\", density=True, color=\"k\",\n",
        "     lw=2, label=\"histogram of data\")\n",
        "y = posterior_p_mean * norm.pdf(x, loc=posterior_center_means[0],\n",
        "                                scale=posterior_std_means[0])\n",
        "\n",
        "plt.plot(x, y, label=\"Cluster 0 (using posterior-mean parameters)\", lw=3)\n",
        "plt.fill_between(x, y, color=colors[1], alpha=0.3)\n",
        "\n",
        "y = (1 - posterior_p_mean) * norm.pdf(x, loc=posterior_center_means[1],\n",
        "                                      scale=posterior_std_means[1])\n",
        "plt.plot(x, y, label=\"Cluster 1 (using posterior-mean parameters)\", lw=3)\n",
        "plt.fill_between(x, y, color=colors[0], alpha=0.3)\n",
        "\n",
        "plt.legend(loc=\"upper left\")\n",
        "plt.title(\"Visualizing Clusters using posterior-mean parameters\");"
      ],
      "execution_count": 0,
      "outputs": []
    },
    {
      "cell_type": "markdown",
      "metadata": {
        "colab_type": "text",
        "id": "mSPNAKXuSVXd"
      },
      "source": [
        "#### Referencias\n",
        "\n",
        "[1] https://nbviewer.jupyter.org/github/CamDavidsonPilon/Probabilistic-Programming-and-Bayesian-Methods-for-Hackers/blob/master/Chapter3_MCMC/Ch3_IntroMCMC_PyMC2.ipynb\n"
      ]
    },
    {
      "cell_type": "markdown",
      "metadata": {
        "colab_type": "text",
        "id": "FTQzr_HySVXe"
      },
      "source": [
        "## Parte IV: Conclusiones\n",
        "\n",
        "\n",
        "1. Presente las conclusiones para cada parte de su trabajo. "
      ]
    },
    {
      "cell_type": "code",
      "metadata": {
        "colab_type": "code",
        "id": "GW4vp04HSVXe",
        "colab": {}
      },
      "source": [
        ""
      ],
      "execution_count": 0,
      "outputs": []
    }
  ]
}